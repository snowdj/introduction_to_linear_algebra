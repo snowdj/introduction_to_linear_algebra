{
 "cells": [
  {
   "cell_type": "code",
   "execution_count": 1,
   "metadata": {
    "collapsed": true
   },
   "outputs": [],
   "source": [
    "from sympy import *\n",
    "from IPython.display import display\n",
    "init_printing(use_latex='mathjax')"
   ]
  },
  {
   "cell_type": "code",
   "execution_count": 2,
   "metadata": {
    "collapsed": true
   },
   "outputs": [],
   "source": [
    "x, y, z = symbols('x y z')"
   ]
  },
  {
   "cell_type": "markdown",
   "metadata": {},
   "source": [
    "### 1. 例子"
   ]
  },
  {
   "cell_type": "code",
   "execution_count": 3,
   "metadata": {},
   "outputs": [
    {
     "data": {
      "text/latex": [
       "$$\\left ( x + 2 y + z = 2, \\quad 3 x + 8 y + z = 12, \\quad 4 y + z = 2\\right )$$"
      ],
      "text/plain": [
       "(x + 2⋅y + z = 2, 3⋅x + 8⋅y + z = 12, 4⋅y + z = 2)"
      ]
     },
     "execution_count": 3,
     "metadata": {},
     "output_type": "execute_result"
    }
   ],
   "source": [
    "eq1 = Eq(x + 2 * y + z, 2)\n",
    "eq2 = Eq(3 * x + 8 * y + z, 12)\n",
    "eq3 = Eq(4 * y + z, 2)\n",
    "(eq1, eq2, eq3)"
   ]
  },
  {
   "cell_type": "code",
   "execution_count": 4,
   "metadata": {},
   "outputs": [
    {
     "data": {
      "text/latex": [
       "$$\\left[\\begin{matrix}1 & 2 & 1\\\\3 & 8 & 1\\\\0 & 4 & 1\\end{matrix}\\right]$$"
      ],
      "text/plain": [
       "⎡1  2  1⎤\n",
       "⎢       ⎥\n",
       "⎢3  8  1⎥\n",
       "⎢       ⎥\n",
       "⎣0  4  1⎦"
      ]
     },
     "execution_count": 4,
     "metadata": {},
     "output_type": "execute_result"
    }
   ],
   "source": [
    "A = Matrix([[1, 2, 1], [3, 8, 1], [0, 4, 1]])\n",
    "A"
   ]
  },
  {
   "cell_type": "code",
   "execution_count": 5,
   "metadata": {},
   "outputs": [
    {
     "data": {
      "text/latex": [
       "$$\\left[\\begin{matrix}x\\\\y\\\\z\\end{matrix}\\right]$$"
      ],
      "text/plain": [
       "⎡x⎤\n",
       "⎢ ⎥\n",
       "⎢y⎥\n",
       "⎢ ⎥\n",
       "⎣z⎦"
      ]
     },
     "execution_count": 5,
     "metadata": {},
     "output_type": "execute_result"
    }
   ],
   "source": [
    "X = Matrix([[x], [y], [z]])\n",
    "X"
   ]
  },
  {
   "cell_type": "code",
   "execution_count": 6,
   "metadata": {},
   "outputs": [
    {
     "data": {
      "text/latex": [
       "$$\\left[\\begin{matrix}2\\\\12\\\\2\\end{matrix}\\right]$$"
      ],
      "text/plain": [
       "⎡2 ⎤\n",
       "⎢  ⎥\n",
       "⎢12⎥\n",
       "⎢  ⎥\n",
       "⎣2 ⎦"
      ]
     },
     "execution_count": 6,
     "metadata": {},
     "output_type": "execute_result"
    }
   ],
   "source": [
    "b = Matrix([[2], [12], [2]])\n",
    "b"
   ]
  },
  {
   "cell_type": "markdown",
   "metadata": {},
   "source": [
    "### 2. 矩阵乘法规则"
   ]
  },
  {
   "cell_type": "code",
   "execution_count": 7,
   "metadata": {
    "collapsed": true
   },
   "outputs": [],
   "source": [
    "a1, a2, a3, a4 = symbols('a1 a2 a3 a4')\n",
    "b1, b2, b3, b4 = symbols('b1 b2 b3 b4')"
   ]
  },
  {
   "cell_type": "code",
   "execution_count": 8,
   "metadata": {},
   "outputs": [
    {
     "data": {
      "text/latex": [
       "$$\\left[\\begin{matrix}a_{1} & a_{2}\\\\a_{3} & a_{4}\\end{matrix}\\right]$$"
      ],
      "text/plain": [
       "⎡a₁  a₂⎤\n",
       "⎢      ⎥\n",
       "⎣a₃  a₄⎦"
      ]
     },
     "execution_count": 8,
     "metadata": {},
     "output_type": "execute_result"
    }
   ],
   "source": [
    "A = Matrix([[a1, a2], [a3, a4]])\n",
    "A"
   ]
  },
  {
   "cell_type": "code",
   "execution_count": 9,
   "metadata": {},
   "outputs": [
    {
     "data": {
      "text/latex": [
       "$$\\left[\\begin{matrix}b_{1} & b_{2}\\\\b_{3} & b_{4}\\end{matrix}\\right]$$"
      ],
      "text/plain": [
       "⎡b₁  b₂⎤\n",
       "⎢      ⎥\n",
       "⎣b₃  b₄⎦"
      ]
     },
     "execution_count": 9,
     "metadata": {},
     "output_type": "execute_result"
    }
   ],
   "source": [
    "B = Matrix([[b1, b2], [b3, b4]])\n",
    "B"
   ]
  },
  {
   "cell_type": "code",
   "execution_count": 10,
   "metadata": {},
   "outputs": [
    {
     "data": {
      "text/latex": [
       "$$\\left[\\begin{matrix}a_{1} b_{1} + a_{2} b_{3} & a_{1} b_{2} + a_{2} b_{4}\\\\a_{3} b_{1} + a_{4} b_{3} & a_{3} b_{2} + a_{4} b_{4}\\end{matrix}\\right]$$"
      ],
      "text/plain": [
       "⎡a₁⋅b₁ + a₂⋅b₃  a₁⋅b₂ + a₂⋅b₄⎤\n",
       "⎢                            ⎥\n",
       "⎣a₃⋅b₁ + a₄⋅b₃  a₃⋅b₂ + a₄⋅b₄⎦"
      ]
     },
     "execution_count": 10,
     "metadata": {},
     "output_type": "execute_result"
    }
   ],
   "source": [
    "A * B"
   ]
  },
  {
   "cell_type": "markdown",
   "metadata": {},
   "source": [
    "### 2. 消元的目标\n",
    "得到一系列矩阵: E1, E2, E3, ..., En <br>\n",
    "E1 \\* E2 \\* E3 \\* ... \\* En \\* A为: <br>"
   ]
  },
  {
   "cell_type": "code",
   "execution_count": 11,
   "metadata": {},
   "outputs": [
    {
     "data": {
      "text/latex": [
       "$$\\left[\\begin{matrix}1 & 0 & 0 & 0 & 0\\\\0 & 1 & 0 & 0 & 0\\\\0 & 0 & 1 & 0 & 0\\\\0 & 0 & 0 & 1 & 0\\\\0 & 0 & 0 & 0 & 1\\end{matrix}\\right]$$"
      ],
      "text/plain": [
       "⎡1  0  0  0  0⎤\n",
       "⎢             ⎥\n",
       "⎢0  1  0  0  0⎥\n",
       "⎢             ⎥\n",
       "⎢0  0  1  0  0⎥\n",
       "⎢             ⎥\n",
       "⎢0  0  0  1  0⎥\n",
       "⎢             ⎥\n",
       "⎣0  0  0  0  1⎦"
      ]
     },
     "execution_count": 11,
     "metadata": {},
     "output_type": "execute_result"
    }
   ],
   "source": [
    "n = 5\n",
    "eye(n)"
   ]
  },
  {
   "cell_type": "markdown",
   "metadata": {},
   "source": [
    "这种矩阵我们叫他\"identity matrix\", 中文还不知道怎么翻译"
   ]
  },
  {
   "cell_type": "markdown",
   "metadata": {},
   "source": [
    "### 3. 消元过程"
   ]
  },
  {
   "cell_type": "code",
   "execution_count": 12,
   "metadata": {},
   "outputs": [
    {
     "data": {
      "text/latex": [
       "$$\\left[\\begin{matrix}1 & 2 & 1\\\\3 & 8 & 1\\\\0 & 4 & 1\\end{matrix}\\right]$$"
      ],
      "text/plain": [
       "⎡1  2  1⎤\n",
       "⎢       ⎥\n",
       "⎢3  8  1⎥\n",
       "⎢       ⎥\n",
       "⎣0  4  1⎦"
      ]
     },
     "execution_count": 12,
     "metadata": {},
     "output_type": "execute_result"
    }
   ],
   "source": [
    "A = Matrix([[1, 2, 1], [3, 8, 1], [0, 4, 1]])\n",
    "A"
   ]
  },
  {
   "cell_type": "markdown",
   "metadata": {},
   "source": [
    "#### (1). E21思路\n",
    "第1行保持不变: [1, 0, 0] <br>\n",
    "第2行, 要消第1列, 使用第1行*-3 + 第2行: [-3, 1, 0] <br>\n",
    "第3行保持不变: [0, 0, 1] <br>"
   ]
  },
  {
   "cell_type": "code",
   "execution_count": 13,
   "metadata": {},
   "outputs": [
    {
     "data": {
      "text/latex": [
       "$$\\left[\\begin{matrix}1 & 0 & 0\\\\-3 & 1 & 0\\\\0 & 0 & 1\\end{matrix}\\right]$$"
      ],
      "text/plain": [
       "⎡1   0  0⎤\n",
       "⎢        ⎥\n",
       "⎢-3  1  0⎥\n",
       "⎢        ⎥\n",
       "⎣0   0  1⎦"
      ]
     },
     "execution_count": 13,
     "metadata": {},
     "output_type": "execute_result"
    }
   ],
   "source": [
    "E21 = Matrix([[1, 0, 0], [-3, 1, 0], [0, 0, 1]])\n",
    "E21"
   ]
  },
  {
   "cell_type": "code",
   "execution_count": 14,
   "metadata": {},
   "outputs": [
    {
     "data": {
      "text/latex": [
       "$$\\left[\\begin{matrix}1 & 2 & 1\\\\0 & 2 & -2\\\\0 & 4 & 1\\end{matrix}\\right]$$"
      ],
      "text/plain": [
       "⎡1  2  1 ⎤\n",
       "⎢        ⎥\n",
       "⎢0  2  -2⎥\n",
       "⎢        ⎥\n",
       "⎣0  4  1 ⎦"
      ]
     },
     "execution_count": 14,
     "metadata": {},
     "output_type": "execute_result"
    }
   ],
   "source": [
    "E21 * A"
   ]
  },
  {
   "cell_type": "markdown",
   "metadata": {},
   "source": [
    "#### (2). E32思路\n",
    "第1行不变: [1, 0, 0] <br>\n",
    "第2行不变: [0, 1, 0] <br>\n",
    "第3行, 要消第2列, 第2行 * -2 + 第3行: [0, -2, 1]"
   ]
  },
  {
   "cell_type": "code",
   "execution_count": 15,
   "metadata": {},
   "outputs": [
    {
     "data": {
      "text/latex": [
       "$$\\left[\\begin{matrix}1 & 0 & 0\\\\0 & 1 & 0\\\\0 & -2 & 1\\end{matrix}\\right]$$"
      ],
      "text/plain": [
       "⎡1  0   0⎤\n",
       "⎢        ⎥\n",
       "⎢0  1   0⎥\n",
       "⎢        ⎥\n",
       "⎣0  -2  1⎦"
      ]
     },
     "execution_count": 15,
     "metadata": {},
     "output_type": "execute_result"
    }
   ],
   "source": [
    "E32 = Matrix([[1, 0, 0], [0, 1, 0], [0, -2, 1]])\n",
    "E32"
   ]
  },
  {
   "cell_type": "code",
   "execution_count": 16,
   "metadata": {},
   "outputs": [
    {
     "data": {
      "text/latex": [
       "$$\\left[\\begin{matrix}1 & 2 & 1\\\\0 & 2 & -2\\\\0 & 0 & 5\\end{matrix}\\right]$$"
      ],
      "text/plain": [
       "⎡1  2  1 ⎤\n",
       "⎢        ⎥\n",
       "⎢0  2  -2⎥\n",
       "⎢        ⎥\n",
       "⎣0  0  5 ⎦"
      ]
     },
     "execution_count": 16,
     "metadata": {},
     "output_type": "execute_result"
    }
   ],
   "source": [
    "U = E32 * (E21 * A)\n",
    "U"
   ]
  },
  {
   "cell_type": "markdown",
   "metadata": {},
   "source": [
    "#### (3). E23思路\n",
    "第1行不变: [1, 0, 0] <br>\n",
    "第2行, 要消第3列, 第2行*5 + 第3行*2: [0, 5, 2] <br>\n",
    "第3行不变: [0, 0, 1] <br>"
   ]
  },
  {
   "cell_type": "code",
   "execution_count": 17,
   "metadata": {},
   "outputs": [
    {
     "data": {
      "text/latex": [
       "$$\\left[\\begin{matrix}1 & 0 & 0\\\\0 & 5 & 2\\\\0 & 0 & 1\\end{matrix}\\right]$$"
      ],
      "text/plain": [
       "⎡1  0  0⎤\n",
       "⎢       ⎥\n",
       "⎢0  5  2⎥\n",
       "⎢       ⎥\n",
       "⎣0  0  1⎦"
      ]
     },
     "execution_count": 17,
     "metadata": {},
     "output_type": "execute_result"
    }
   ],
   "source": [
    "E23 = Matrix([[1, 0, 0], [0, 5, 2], [0, 0, 1]])\n",
    "E23"
   ]
  },
  {
   "cell_type": "code",
   "execution_count": 18,
   "metadata": {},
   "outputs": [
    {
     "data": {
      "text/latex": [
       "$$\\left[\\begin{matrix}1 & 2 & 1\\\\0 & 10 & 0\\\\0 & 0 & 5\\end{matrix}\\right]$$"
      ],
      "text/plain": [
       "⎡1  2   1⎤\n",
       "⎢        ⎥\n",
       "⎢0  10  0⎥\n",
       "⎢        ⎥\n",
       "⎣0  0   5⎦"
      ]
     },
     "execution_count": 18,
     "metadata": {},
     "output_type": "execute_result"
    }
   ],
   "source": [
    "U = E23 * (E32 * (E21 * A))\n",
    "U"
   ]
  },
  {
   "cell_type": "markdown",
   "metadata": {},
   "source": [
    "### 4. 矩阵乘法性质\n",
    "矩阵乘法没有交换律,但是有结合律 <br>\n",
    "A \\* (B \\* C) = (A \\* B) \\* C\n",
    "所以:"
   ]
  },
  {
   "cell_type": "code",
   "execution_count": 19,
   "metadata": {},
   "outputs": [
    {
     "data": {
      "text/latex": [
       "$$\\left[\\begin{matrix}1 & 2 & 1\\\\0 & 2 & -2\\\\0 & 0 & 5\\end{matrix}\\right]$$"
      ],
      "text/plain": [
       "⎡1  2  1 ⎤\n",
       "⎢        ⎥\n",
       "⎢0  2  -2⎥\n",
       "⎢        ⎥\n",
       "⎣0  0  5 ⎦"
      ]
     },
     "execution_count": 19,
     "metadata": {},
     "output_type": "execute_result"
    }
   ],
   "source": [
    "U = (E32 * E21) * A\n",
    "U"
   ]
  },
  {
   "cell_type": "markdown",
   "metadata": {},
   "source": [
    "### 5. 逆矩阵"
   ]
  },
  {
   "cell_type": "markdown",
   "metadata": {},
   "source": [
    "### (1)定义\n",
    "如果: E**-1 * E = I <br>\n",
    "我们就称E**-1 为 E的逆矩阵<br>"
   ]
  },
  {
   "cell_type": "markdown",
   "metadata": {},
   "source": [
    "### (2). 逆矩阵求解方程原理\n",
    "A \\* X = b <br>\n",
    "==> A \\*\\* -1 \\* A \\* X = A\\*\\*-1 \\* b <br>\n",
    "==> I \\* X = A\\*\\*-1 \\* b <br>\n",
    "I 形如: <br>\n",
    "[1, 0, 0] <br>\n",
    "[0, 1, 0] <br>\n",
    "[0, 0, 1] <br>\n",
    "X 形如: [x, y, z] <br>\n",
    "==> I \\* X = X <br>\n",
    "==> X = A \\*\\* -1 b <br>"
   ]
  },
  {
   "cell_type": "markdown",
   "metadata": {},
   "source": [
    "### (3). 用Sympy求逆矩阵"
   ]
  },
  {
   "cell_type": "code",
   "execution_count": 20,
   "metadata": {
    "collapsed": true
   },
   "outputs": [],
   "source": [
    "_A = A.inv() "
   ]
  },
  {
   "cell_type": "code",
   "execution_count": 21,
   "metadata": {},
   "outputs": [
    {
     "data": {
      "text/latex": [
       "$$\\left[\\begin{matrix}1 & 0 & 0\\\\0 & 1 & 0\\\\0 & 0 & 1\\end{matrix}\\right]$$"
      ],
      "text/plain": [
       "⎡1  0  0⎤\n",
       "⎢       ⎥\n",
       "⎢0  1  0⎥\n",
       "⎢       ⎥\n",
       "⎣0  0  1⎦"
      ]
     },
     "execution_count": 21,
     "metadata": {},
     "output_type": "execute_result"
    }
   ],
   "source": [
    "_A * A"
   ]
  },
  {
   "cell_type": "markdown",
   "metadata": {},
   "source": [
    "注意: 矩阵左逆和右逆是相等的"
   ]
  },
  {
   "cell_type": "code",
   "execution_count": 22,
   "metadata": {},
   "outputs": [
    {
     "data": {
      "text/latex": [
       "$$\\left[\\begin{matrix}1 & 0 & 0\\\\0 & 1 & 0\\\\0 & 0 & 1\\end{matrix}\\right]$$"
      ],
      "text/plain": [
       "⎡1  0  0⎤\n",
       "⎢       ⎥\n",
       "⎢0  1  0⎥\n",
       "⎢       ⎥\n",
       "⎣0  0  1⎦"
      ]
     },
     "execution_count": 22,
     "metadata": {},
     "output_type": "execute_result"
    }
   ],
   "source": [
    "A * _A"
   ]
  },
  {
   "cell_type": "code",
   "execution_count": 23,
   "metadata": {},
   "outputs": [
    {
     "data": {
      "text/latex": [
       "$$\\left[\\begin{matrix}2\\\\1\\\\-2\\end{matrix}\\right]$$"
      ],
      "text/plain": [
       "⎡2 ⎤\n",
       "⎢  ⎥\n",
       "⎢1 ⎥\n",
       "⎢  ⎥\n",
       "⎣-2⎦"
      ]
     },
     "execution_count": 23,
     "metadata": {},
     "output_type": "execute_result"
    }
   ],
   "source": [
    "_A * b"
   ]
  }
 ],
 "metadata": {
  "kernelspec": {
   "display_name": "Python 2",
   "language": "python",
   "name": "python2"
  },
  "language_info": {
   "codemirror_mode": {
    "name": "ipython",
    "version": 2
   },
   "file_extension": ".py",
   "mimetype": "text/x-python",
   "name": "python",
   "nbconvert_exporter": "python",
   "pygments_lexer": "ipython2",
   "version": "2.7.12"
  }
 },
 "nbformat": 4,
 "nbformat_minor": 2
}
