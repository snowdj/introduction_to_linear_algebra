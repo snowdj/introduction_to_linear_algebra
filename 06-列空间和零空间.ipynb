{
 "cells": [
  {
   "cell_type": "code",
   "execution_count": 4,
   "metadata": {
    "collapsed": true
   },
   "outputs": [],
   "source": [
    "from sympy import *\n",
    "init_printing(use_latex='mathjax')"
   ]
  },
  {
   "cell_type": "markdown",
   "metadata": {},
   "source": [
    "### 线性组合和线性空间"
   ]
  },
  {
   "cell_type": "markdown",
   "metadata": {},
   "source": [
    "$ R ^ n $上的向量\n",
    "$ A = \n",
    "\\begin{equation*}\n",
    "\\begin{vmatrix}\n",
    "a1 \\\\\n",
    "a2 \\\\\n",
    ". \\\\\n",
    ". \\\\\n",
    ". \\\\\n",
    "a3 \\\\\n",
    "\\end{vmatrix}\n",
    "\\end{equation*}\n",
    "$,\n",
    "$ B = \n",
    "\\begin{equation*}\n",
    "\\begin{vmatrix}\n",
    "b1 \\\\\n",
    "b2 \\\\\n",
    ". \\\\\n",
    ". \\\\\n",
    ". \\\\\n",
    "b3 \\\\\n",
    "\\end{vmatrix}\n",
    "\\end{equation*}\n",
    "$<br>\n",
    "向量A和B的线性组合为:<br>\n",
    "$ C = x1 * A + x2 * B \\space \\space (x1 \\in R, x2 \\in R)$ <br>\n",
    "C的所有可能情况就是线性空间"
   ]
  },
  {
   "cell_type": "markdown",
   "metadata": {
    "collapsed": true
   },
   "source": [
    "### 向量空间的性质\n",
    "向量S和向量T是向量$ R ^ n $的子向量空间:<br>\n",
    "$ S \\cup T $ 不是向量空间<br>\n",
    "$ S \\cap T $ 是向量空间<br>"
   ]
  },
  {
   "cell_type": "markdown",
   "metadata": {},
   "source": [
    "### 列空间"
   ]
  },
  {
   "cell_type": "markdown",
   "metadata": {},
   "source": [
    "#### 例子($ R ^ 4 $)"
   ]
  },
  {
   "cell_type": "markdown",
   "metadata": {},
   "source": [
    "$ A =\n",
    "\\begin{equation*}\n",
    "\\begin{vmatrix}\n",
    "1, 1, 2 \\\\\n",
    "2, 1, 3 \\\\\n",
    "3, 1, 4 \\\\\n",
    "4, 1, 5 \\\\\n",
    "\\end{vmatrix}\n",
    "\\end{equation*}\n",
    "$,\n",
    "$ X=\n",
    "\\begin{equation*}\n",
    "\\begin{vmatrix}\n",
    "x1 \\\\\n",
    "x2 \\\\\n",
    "x3 \\\\\n",
    "\\end{vmatrix}\n",
    "\\end{equation*}\n",
    "$,\n",
    "$ b =\n",
    "\\begin{equation*}\n",
    "\\begin{vmatrix}\n",
    "b1 \\\\\n",
    "b2 \\\\\n",
    "b3 \\\\\n",
    "b4\n",
    "\\end{vmatrix}\n",
    "\\end{equation*}\n",
    "$"
   ]
  },
  {
   "cell_type": "markdown",
   "metadata": {},
   "source": [
    "$ A * X = b $, 并不是对于所有R4空间中的b都有解的<br>\n",
    "注意: 这里的X我们可以理解成线性组合的系数, 原式可以改写为:<br>"
   ]
  },
  {
   "cell_type": "markdown",
   "metadata": {},
   "source": [
    "$ x1 *\n",
    "\\begin{equation*}\n",
    "\\begin{vmatrix}\n",
    "1 \\\\\n",
    "2 \\\\\n",
    "3 \\\\\n",
    "4 \\\\\n",
    "\\end{vmatrix}\n",
    "\\end{equation*}\n",
    "$\n",
    "$ + x2 *\n",
    "\\begin{equation*}\n",
    "\\begin{vmatrix}\n",
    "1 \\\\\n",
    "1 \\\\\n",
    "1 \\\\\n",
    "1 \\\\\n",
    "\\end{vmatrix}\n",
    "\\end{equation*}\n",
    "$\n",
    "$ + x3 * \n",
    "\\begin{equation*}\n",
    "\\begin{vmatrix}\n",
    "2 \\\\\n",
    "3 \\\\\n",
    "4 \\\\\n",
    "5 \\\\\n",
    "\\end{vmatrix}\n",
    "\\end{equation*}\n",
    "$\n",
    "$ =\n",
    "\\begin{equation*}\n",
    "\\begin{vmatrix}\n",
    "b1 \\\\\n",
    "b2 \\\\\n",
    "b3 \\\\\n",
    "b4\n",
    "\\end{vmatrix}\n",
    "\\end{equation*}\n",
    "$"
   ]
  },
  {
   "cell_type": "markdown",
   "metadata": {},
   "source": [
    "#### 简化到$ R ^ 2 $\n",
    "四维空间比较难想像, 简化到二维:"
   ]
  },
  {
   "cell_type": "markdown",
   "metadata": {},
   "source": [
    "$\n",
    "\\begin{equation*}\n",
    "\\begin{vmatrix}\n",
    "1 \\\\\n",
    "2 \\\\\n",
    "\\end{vmatrix}\n",
    "\\end{equation*}\n",
    "$\n",
    "$\n",
    "\\begin{equation*}\n",
    "\\begin{vmatrix}\n",
    "x\n",
    "\\end{vmatrix}\n",
    "\\end{equation*}\n",
    "$\n",
    "$ = b $"
   ]
  },
  {
   "cell_type": "markdown",
   "metadata": {},
   "source": [
    "在二维空间中, 向量A=\n",
    "$\n",
    "\\begin{equation*}\n",
    "\\begin{vmatrix}\n",
    "1 \\\\\n",
    "2 \\\\\n",
    "\\end{vmatrix}\n",
    "\\end{equation*}\n",
    "$, 无论如何进行线性组合,其结果都在一条直线上, 而无法占据整个平面. <br>\n",
    "例如: 永远无法到达点(2, 1)."
   ]
  },
  {
   "cell_type": "markdown",
   "metadata": {},
   "source": [
    "### 主向量"
   ]
  },
  {
   "cell_type": "markdown",
   "metadata": {},
   "source": [
    "在$ R ^ 2 $上, 向量A = \n",
    "$\n",
    "\\begin{equation*}\n",
    "\\begin{vmatrix}\n",
    "1 \\\\\n",
    "2 \\\\\n",
    "\\end{vmatrix}\n",
    "\\end{equation*}\n",
    "$\n",
    ",向量B = \n",
    "$\n",
    "\\begin{equation*}\n",
    "\\begin{vmatrix}\n",
    "2 \\\\\n",
    "4 \\\\\n",
    "\\end{vmatrix}\n",
    "\\end{equation*}\n",
    "$. <br>\n",
    "这两个向量的线性组合仍然无法填满整个$ R ^ 2 $ <br>\n",
    "因为向量B是可以通过A的线性组合获得, 本质还是在同一个线性空间上, 它们的计算结果不会逃离这个空间. <br>"
   ]
  },
  {
   "cell_type": "markdown",
   "metadata": {},
   "source": [
    "#### 推论: 填满向量空间$ R ^ n $, 至少需要n各向量,  且其中任何一个向量不能由其他向量的线性组合获得."
   ]
  },
  {
   "cell_type": "markdown",
   "metadata": {},
   "source": [
    "### 零空间"
   ]
  },
  {
   "cell_type": "code",
   "execution_count": 29,
   "metadata": {},
   "outputs": [
    {
     "data": {
      "text/latex": [
       "$$\\left[\\begin{matrix}x_{1} + x_{2} + 2 x_{3}\\\\2 x_{1} + x_{2} + 3 x_{3}\\\\3 x_{1} + x_{2} + 4 x_{3}\\\\4 x_{1} + x_{2} + 5 x_{3}\\end{matrix}\\right] = \\left[\\begin{matrix}0\\\\0\\\\0\\\\0\\end{matrix}\\right]$$"
      ],
      "text/plain": [
       "⎡ x₁ + x₂ + 2⋅x₃ ⎤ = ⎡0⎤\n",
       "⎢                ⎥   ⎢ ⎥\n",
       "⎢2⋅x₁ + x₂ + 3⋅x₃⎥   ⎢0⎥\n",
       "⎢                ⎥   ⎢ ⎥\n",
       "⎢3⋅x₁ + x₂ + 4⋅x₃⎥   ⎢0⎥\n",
       "⎢                ⎥   ⎢ ⎥\n",
       "⎣4⋅x₁ + x₂ + 5⋅x₃⎦   ⎣0⎦"
      ]
     },
     "execution_count": 29,
     "metadata": {},
     "output_type": "execute_result"
    }
   ],
   "source": [
    "x1, x2, x3 = symbols('x1, x2, x3')\n",
    "A = Matrix([[1, 1, 2], [2, 1, 3], [3, 1, 4], [4, 1, 5]])\n",
    "X = Matrix([[x1], [x2], [x3]])\n",
    "b =  Matrix([[0], [0], [0], [0]])\n",
    "Eq(A * X, b)"
   ]
  },
  {
   "cell_type": "markdown",
   "metadata": {},
   "source": [
    "#### 简化到$ R ^ 3$"
   ]
  },
  {
   "cell_type": "code",
   "execution_count": 49,
   "metadata": {},
   "outputs": [
    {
     "data": {
      "text/latex": [
       "$$\\left[\\begin{matrix}x_{1} + x_{2}\\\\2 x_{1} + x_{2}\\\\3 x_{1} + x_{2}\\end{matrix}\\right] = \\left[\\begin{matrix}0\\\\0\\\\0\\end{matrix}\\right]$$"
      ],
      "text/plain": [
       "⎡ x₁ + x₂ ⎤ = ⎡0⎤\n",
       "⎢         ⎥   ⎢ ⎥\n",
       "⎢2⋅x₁ + x₂⎥   ⎢0⎥\n",
       "⎢         ⎥   ⎢ ⎥\n",
       "⎣3⋅x₁ + x₂⎦   ⎣0⎦"
      ]
     },
     "execution_count": 49,
     "metadata": {},
     "output_type": "execute_result"
    }
   ],
   "source": [
    "x1, x2 = symbols('x1, x2')\n",
    "A = Matrix([[1, 1], [2, 1], [3, 1]])\n",
    "X = Matrix([[x1], [x2]])\n",
    "b =  Matrix([[0], [0], [0]])\n",
    "Eq(A * X, b)"
   ]
  },
  {
   "cell_type": "code",
   "execution_count": 51,
   "metadata": {},
   "outputs": [
    {
     "data": {
      "text/latex": [
       "$$\\left\\{\\left ( 0, \\quad 0\\right )\\right\\}$$"
      ],
      "text/plain": [
       "{(0, 0)}"
      ]
     },
     "execution_count": 51,
     "metadata": {},
     "output_type": "execute_result"
    }
   ],
   "source": [
    "system = A, b\n",
    "linsolve(system, [x1, x2])"
   ]
  }
 ],
 "metadata": {
  "kernelspec": {
   "display_name": "Python 2",
   "language": "python",
   "name": "python2"
  },
  "language_info": {
   "codemirror_mode": {
    "name": "ipython",
    "version": 2
   },
   "file_extension": ".py",
   "mimetype": "text/x-python",
   "name": "python",
   "nbconvert_exporter": "python",
   "pygments_lexer": "ipython2",
   "version": "2.7.12"
  }
 },
 "nbformat": 4,
 "nbformat_minor": 2
}
