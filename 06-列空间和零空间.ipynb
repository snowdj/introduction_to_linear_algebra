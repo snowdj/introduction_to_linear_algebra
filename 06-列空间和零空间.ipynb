{
 "cells": [
  {
   "cell_type": "code",
   "execution_count": 4,
   "metadata": {
    "collapsed": true
   },
   "outputs": [],
   "source": [
    "from sympy import *\n",
    "init_printing(use_latex='mathjax')"
   ]
  },
  {
   "cell_type": "markdown",
   "metadata": {},
   "source": [
    "### 线性组合"
   ]
  },
  {
   "cell_type": "markdown",
   "metadata": {},
   "source": [
    "V是向量,W是向量<br>\n",
    "线性组合: C*V + D*W"
   ]
  },
  {
   "cell_type": "markdown",
   "metadata": {
    "collapsed": true
   },
   "source": [
    "### 向量空间\n",
    "向量S和向量T是向量$ R ^ n $的子向量空间:<br>\n",
    "$ S \\cup T $ 不是向量空间<br>\n",
    "$ S \\cap T $ 是向量空间<br>"
   ]
  },
  {
   "cell_type": "markdown",
   "metadata": {},
   "source": [
    "### 列空间"
   ]
  },
  {
   "cell_type": "code",
   "execution_count": 27,
   "metadata": {},
   "outputs": [
    {
     "data": {
      "text/latex": [
       "$$\\left[\\begin{matrix}x_{1} + x_{2} + 2 x_{3}\\\\2 x_{1} + x_{2} + 3 x_{3}\\\\3 x_{1} + x_{2} + 4 x_{3}\\\\4 x_{1} + x_{2} + 5 x_{3}\\end{matrix}\\right] = \\left[\\begin{matrix}1\\\\2\\\\3\\\\4\\end{matrix}\\right]$$"
      ],
      "text/plain": [
       "⎡ x₁ + x₂ + 2⋅x₃ ⎤ = ⎡1⎤\n",
       "⎢                ⎥   ⎢ ⎥\n",
       "⎢2⋅x₁ + x₂ + 3⋅x₃⎥   ⎢2⎥\n",
       "⎢                ⎥   ⎢ ⎥\n",
       "⎢3⋅x₁ + x₂ + 4⋅x₃⎥   ⎢3⎥\n",
       "⎢                ⎥   ⎢ ⎥\n",
       "⎣4⋅x₁ + x₂ + 5⋅x₃⎦   ⎣4⎦"
      ]
     },
     "execution_count": 27,
     "metadata": {},
     "output_type": "execute_result"
    }
   ],
   "source": [
    "x1, x2, x3 = symbols('x1, x2, x3')\n",
    "A = Matrix([[1, 1, 2], [2, 1, 3], [3, 1, 4], [4, 1, 5]])\n",
    "X = Matrix([[x1], [x2], [x3]])\n",
    "b =  Matrix([[1], [2], [3], [4]])\n",
    "Eq(A * X, b)"
   ]
  },
  {
   "cell_type": "markdown",
   "metadata": {},
   "source": [
    "### 零空间"
   ]
  },
  {
   "cell_type": "code",
   "execution_count": 28,
   "metadata": {},
   "outputs": [
    {
     "data": {
      "text/latex": [
       "$$\\left[\\begin{matrix}x_{1} + x_{2} + 2 x_{3}\\\\2 x_{1} + x_{2} + 3 x_{3}\\\\3 x_{1} + x_{2} + 4 x_{3}\\\\4 x_{1} + x_{2} + 5 x_{3}\\end{matrix}\\right] = \\left[\\begin{matrix}0\\\\0\\\\0\\\\0\\end{matrix}\\right]$$"
      ],
      "text/plain": [
       "⎡ x₁ + x₂ + 2⋅x₃ ⎤ = ⎡0⎤\n",
       "⎢                ⎥   ⎢ ⎥\n",
       "⎢2⋅x₁ + x₂ + 3⋅x₃⎥   ⎢0⎥\n",
       "⎢                ⎥   ⎢ ⎥\n",
       "⎢3⋅x₁ + x₂ + 4⋅x₃⎥   ⎢0⎥\n",
       "⎢                ⎥   ⎢ ⎥\n",
       "⎣4⋅x₁ + x₂ + 5⋅x₃⎦   ⎣0⎦"
      ]
     },
     "execution_count": 28,
     "metadata": {},
     "output_type": "execute_result"
    }
   ],
   "source": [
    "x1, x2, x3 = symbols('x1, x2, x3')\n",
    "A = Matrix([[1, 1, 2], [2, 1, 3], [3, 1, 4], [4, 1, 5]])\n",
    "X = Matrix([[x1], [x2], [x3]])\n",
    "b =  Matrix([[0], [0], [0], [0]])\n",
    "Eq(A * X, b)"
   ]
  }
 ],
 "metadata": {
  "kernelspec": {
   "display_name": "Python 2",
   "language": "python",
   "name": "python2"
  },
  "language_info": {
   "codemirror_mode": {
    "name": "ipython",
    "version": 2
   },
   "file_extension": ".py",
   "mimetype": "text/x-python",
   "name": "python",
   "nbconvert_exporter": "python",
   "pygments_lexer": "ipython2",
   "version": "2.7.12"
  }
 },
 "nbformat": 4,
 "nbformat_minor": 2
}
