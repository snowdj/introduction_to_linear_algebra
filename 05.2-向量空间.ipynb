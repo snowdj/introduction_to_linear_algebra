{
 "cells": [
  {
   "cell_type": "markdown",
   "metadata": {},
   "source": [
    "### n维向量空间"
   ]
  },
  {
   "cell_type": "markdown",
   "metadata": {},
   "source": [
    "$ R ^ n $ 表示n维的向量空间(其中R表示实数)<br>\n",
    "$ R ^ 1 $ 直线(数轴)<br>\n",
    "$ R ^ 2 $ 平面(坐标系)<br>\n",
    "$ R ^ 3 $ 三维空间"
   ]
  },
  {
   "cell_type": "markdown",
   "metadata": {},
   "source": [
    "### 向量子空间"
   ]
  },
  {
   "cell_type": "markdown",
   "metadata": {},
   "source": [
    "$ R ^ 2 $ 的子空间:<br>\n",
    "1. $ R ^ 2 $ \n",
    "2. 过原点的直线 \n",
    "3. 原点\n"
   ]
  },
  {
   "cell_type": "markdown",
   "metadata": {},
   "source": [
    "$ R ^ 3 $ 的子空间:\n",
    "1. $ R ^ 3 $\n",
    "2. 过原点的平面\n",
    "3. 过原点的直线\n",
    "4. 原点"
   ]
  }
 ],
 "metadata": {
  "kernelspec": {
   "display_name": "Python 2",
   "language": "python",
   "name": "python2"
  },
  "language_info": {
   "codemirror_mode": {
    "name": "ipython",
    "version": 2
   },
   "file_extension": ".py",
   "mimetype": "text/x-python",
   "name": "python",
   "nbconvert_exporter": "python",
   "pygments_lexer": "ipython2",
   "version": "2.7.12"
  }
 },
 "nbformat": 4,
 "nbformat_minor": 2
}
